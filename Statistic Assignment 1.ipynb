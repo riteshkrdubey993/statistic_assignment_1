{
 "cells": [
  {
   "cell_type": "markdown",
   "id": "bd1263e7-6abf-4fe5-b7db-a3ace2b68938",
   "metadata": {},
   "source": [
    "Q1. What is Statistics?\n",
    "\n",
    "Statistics is a branch of mathematics that deals with the collection, organization, analysis, interpretation, and presentation of data. It involves methods for gathering and summarizing data, drawing conclusions from the data, and making inferences or predictions based on the data."
   ]
  },
  {
   "cell_type": "markdown",
   "id": "88a7127e-9f6d-409f-9356-73892edcfd88",
   "metadata": {},
   "source": [
    "Q2. Define the different types of statistics and give an example of when each type might be used.\n",
    "\n",
    "\n",
    "Statistics can be broadly classified into two main types: descriptive statistics and inferential statistics. Here's an explanation of each type along with an example of when they might be used:\n",
    "\n",
    "Descriptive Statistics:\n",
    "Descriptive statistics involve methods for summarizing and describing data sets. They provide a clear and concise summary of the main features of the data, allowing for easier interpretation and understanding. Examples of descriptive statistics include measures of central tendency (mean, median, mode) and measures of variability (standard deviation, range).\n",
    "Example: Suppose you have a dataset of students' test scores in a class. Descriptive statistics can be used to calculate the average score (mean), the score that appears most frequently (mode), and the spread of scores (standard deviation). These summary measures provide a snapshot of the performance of the class as a whole.\n",
    "\n",
    "Inferential Statistics:\n",
    "Inferential statistics involve using data from a sample to make inferences or generalizations about a larger population. It allows researchers to draw conclusions, test hypotheses, and make predictions based on the available evidence. Inferential statistics often involve estimating parameters, testing hypotheses, and determining the level of confidence in the results.\n",
    "Example: Suppose you want to determine whether a new teaching method has a significant impact on student performance. You could randomly select a group of students (sample) and compare their test scores with those of another group of students who were not exposed to the new teaching method (control group). By analyzing the data using inferential statistics, such as hypothesis testing, you can determine if the observed differences in test scores are statistically significant and conclude whether the new teaching method is effective for the larger population of students."
   ]
  },
  {
   "cell_type": "markdown",
   "id": "7d6cbc5f-0af1-4397-a9a3-61e77a3545e7",
   "metadata": {},
   "source": [
    "Q3. What are the different types of data and how do they differ from each other? Provide an example of\n",
    "each type of data.\n",
    "\n",
    "The data is classified into two categories:\n",
    "\n",
    "1. Qualitative or Categorical Data\n",
    "2. Quantitative or Numerical Data\n",
    "\n",
    "Qualitative data, also known as the categorical data, describes the data that fits into the categories. Qualitative data are not numerical. The categorical information involves categorical variables that describe the features such as a person’s gender, home town etc. Categorical measures are defined in terms of natural language specifications, but not in terms of numbers.The two different classifications of categorical data are Nominal data and ordinal data.\n",
    "\n",
    "\n",
    "Nominal Data: Nominal data is one of the types of qualitative information which helps to label the variables without providing the numerical value. Nominal data is also called the nominal scale. It cannot be ordered and measured. But sometimes, the data can be qualitative and quantitative. Examples of nominal data are letters, symbols, words, gender etc.The nominal data are examined using the grouping method. In this method, the data are grouped into categories, and then the frequency or the percentage of the data can be calculated. These data are visually represented using the pie charts.\n",
    "\n",
    "Ordinal Data: Ordinal data/variable is a type of data that follows a natural order. The significant feature of the nominal data is that the difference between the data values is not determined. This variable is mostly found in surveys, finance, economics, questionnaires, and so on. The ordinal data is commonly represented using a bar chart. These data are investigated and interpreted through many visualisation tools. The information may be expressed using tables in which each row in the table shows the distinct category.\n",
    "\n",
    "Quantitative or Numerical Data: Quantitative data is also known as numerical data which represents the numerical value (i.e., how much, how often, how many). Numerical data gives information about the quantities of a specific thing. Some examples of numerical data are height, length, size, weight, and so on. The quantitative data can be classified into two different types based on the data sets. The two different classifications of numerical data are discrete data and continuous data.\n",
    "\n",
    "Discrete Data: Discrete data can take only discrete values. Discrete information contains only a finite number of possible values. Those values cannot be subdivided meaningfully. Here, things can be counted in whole numbers.\n",
    "Example: Number of students in the class\n",
    "\n",
    "Continuous Data: Continuous data is data that can be calculated. It has an infinite number of probable values that can be selected within a given specific range.\n",
    "Example: Temperature range"
   ]
  },
  {
   "cell_type": "code",
   "execution_count": null,
   "id": "b61ff159-2aa9-4474-bf45-9c4901cea80b",
   "metadata": {},
   "outputs": [],
   "source": []
  },
  {
   "cell_type": "code",
   "execution_count": null,
   "id": "717e8f94-338c-43fb-964d-81e1ff43cdda",
   "metadata": {},
   "outputs": [],
   "source": []
  },
  {
   "cell_type": "code",
   "execution_count": null,
   "id": "29c54627-6de0-417c-aee3-6615601d68a1",
   "metadata": {},
   "outputs": [],
   "source": []
  },
  {
   "cell_type": "code",
   "execution_count": null,
   "id": "37245419-4c1e-42c3-92ef-4157e6f506e0",
   "metadata": {},
   "outputs": [],
   "source": []
  },
  {
   "cell_type": "code",
   "execution_count": null,
   "id": "479f1966-f9fb-42a1-874a-3d81db8f71eb",
   "metadata": {},
   "outputs": [],
   "source": []
  },
  {
   "cell_type": "code",
   "execution_count": null,
   "id": "78817107-b511-4e39-830c-c90d7382fb67",
   "metadata": {},
   "outputs": [],
   "source": []
  },
  {
   "cell_type": "code",
   "execution_count": null,
   "id": "1d4dcd42-5e94-4e3e-8095-30f5c83a52fa",
   "metadata": {},
   "outputs": [],
   "source": []
  },
  {
   "cell_type": "code",
   "execution_count": null,
   "id": "c0d7e192-3d1f-4276-a103-03d37ddfb64e",
   "metadata": {},
   "outputs": [],
   "source": []
  },
  {
   "cell_type": "code",
   "execution_count": null,
   "id": "8811e366-c37e-4fc7-b8b3-8141e994c90e",
   "metadata": {},
   "outputs": [],
   "source": []
  },
  {
   "cell_type": "code",
   "execution_count": null,
   "id": "b08ebf7a-9e38-46ec-8863-f077911f37d0",
   "metadata": {},
   "outputs": [],
   "source": []
  },
  {
   "cell_type": "code",
   "execution_count": null,
   "id": "b2baff82-7844-4546-8c5a-c067acbf6483",
   "metadata": {},
   "outputs": [],
   "source": []
  },
  {
   "cell_type": "code",
   "execution_count": null,
   "id": "8b247cbf-b55d-4a35-ba70-98f14efc4f31",
   "metadata": {},
   "outputs": [],
   "source": []
  }
 ],
 "metadata": {
  "kernelspec": {
   "display_name": "Python 3 (ipykernel)",
   "language": "python",
   "name": "python3"
  },
  "language_info": {
   "codemirror_mode": {
    "name": "ipython",
    "version": 3
   },
   "file_extension": ".py",
   "mimetype": "text/x-python",
   "name": "python",
   "nbconvert_exporter": "python",
   "pygments_lexer": "ipython3",
   "version": "3.10.8"
  }
 },
 "nbformat": 4,
 "nbformat_minor": 5
}
